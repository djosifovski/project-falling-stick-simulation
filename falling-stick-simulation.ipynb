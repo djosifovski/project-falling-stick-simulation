{
 "cells": [
  {
   "cell_type": "code",
   "execution_count": 1,
   "metadata": {},
   "outputs": [],
   "source": [
    "import numpy as np\n",
    "import pandas as pd\n",
    "import matplotlib.pyplot as plt"
   ]
  },
  {
   "cell_type": "markdown",
   "metadata": {},
   "source": [
    "# Falling Stick Simulation"
   ]
  },
  {
   "cell_type": "markdown",
   "metadata": {},
   "source": [
    "This project is inspired by the YouTube video [How long does it take a pencil to tip over? What about something longer?](https://www.youtube.com/watch?v=nwYNFBdRGR4) (last accessed: 14 July 2020)."
   ]
  },
  {
   "cell_type": "markdown",
   "metadata": {},
   "source": [
    "In this project we investigate how long it take for a stick to fall down. The free body diagram of the system is shown on the figure bellow.\n",
    "\n",
    "<img src=\"falling-stick-diagram.png\" width=\"300\" align=\"center\"/>\n",
    "\n",
    "The figure is from https://physics.stackexchange.com/a/625152.\n",
    "\n",
    "## Lagrangian Derivation\n",
    "\n",
    "The moment of inertia of a stick rotated about one end is given by:\n",
    "\n",
    "$$\n",
    "I = \\dfrac{1}{3}mL^{2}.\n",
    "$$\n",
    "\n",
    "The kinetic energy of the system is:\n",
    "\n",
    "$$\n",
    "\\begin{aligned}\n",
    "K &= \\dfrac{1}{2}I_{c}\\omega^{2} + \\underbrace{\\dfrac{1}{2}mv_{c}^{\\phantom{0}2}}_{=0\\text{ (no translational energy)}} \\\\\n",
    "&= \\dfrac{1}{2}\\left(\\dfrac{1}{3}mL^{2}\\right)\\omega^{2} \\\\\n",
    "&= \\dfrac{1}{6}mL^{2}\\omega^{2}.\n",
    "\\end{aligned}\n",
    "$$\n",
    "\n",
    "The potential energy of the system is:\n",
    "\n",
    "$$\n",
    "\\begin{aligned}\n",
    "P &= mgy_{c} \\\\\n",
    "&= mg\\frac{L}{2}(1 - \\cos\\theta).\n",
    "\\end{aligned}\n",
    "$$\n",
    "\n",
    "The Lagrangian $L$ of the system is defined as the difference between the kinetic and potential energies:\n",
    "\n",
    "$$\n",
    "L = K - P = \\dfrac{1}{6}mL^{2}\\omega^{2} - mg\\dfrac{L}{2}(1 - \\cos\\theta).\n",
    "$$\n",
    "\n",
    "To find the angular acceleration of the falling stick, we use the Euler-Lagrange equation:\n",
    "\n",
    "$$\n",
    "\\dfrac{d}{dt}\\left(\\dfrac{\\partial L}{\\partial \\dot{\\theta}}\\right) - \\dfrac{\\partial L}{\\partial \\theta} = 0.\n",
    "$$\n",
    "\n",
    "Substituting the Lagrangian into this equation, we get:\n",
    "\n",
    "$$\n",
    "\\dfrac{1}{3}mL^{2}\\ddot{\\theta} - mg\\dfrac{L}{2}\\sin\\theta = 0.\n",
    "$$\n",
    "\n",
    "Solving for $\\ddot{\\theta}$ gives us the quantity:\n",
    "\n",
    "$$\n",
    "\\alpha = \\ddot{\\theta} = \\dfrac{3}{2}\\dfrac{g}{L}\\sin\\theta.\n",
    "$$\n",
    "\n",
    "We conclude that the length of the stick is the only relevant property for this calculation, and the mass of the stick does not affect the result."
   ]
  },
  {
   "cell_type": "markdown",
   "metadata": {},
   "source": [
    "## Numerical Computation"
   ]
  },
  {
   "cell_type": "markdown",
   "metadata": {},
   "source": [
    "To numerically calculate the time it takes for the stick to fall down, we start with the derived equation for angular acceleration:\n",
    "\n",
    "$$\n",
    "\\alpha = \\dfrac{3}{2}\\dfrac{g}{L}\\sin\\theta = \\dfrac{\\Delta\\omega}{\\Delta t}\n",
    "$$\n",
    "\n",
    "where:\n",
    "- $\\alpha$ is the angular acceleration,\n",
    "- $g$ is the gravitational acceleration ($9.81 m/s^2$),\n",
    "- $L$ is the length of the stick,\n",
    "- $\\theta$ is the current angle of the stick with respect to the vertical axis.\n",
    "\n",
    "From this equation, angular velocity $\\omega$ can be obtained as the rate of change of angle over time:\n",
    "\n",
    "$$\n",
    "\\omega = \\dfrac{\\Delta\\theta}{\\Delta t} \n",
    "$$\n",
    "\n",
    "We have:\n",
    "\n",
    "$$\n",
    "\\alpha = \\dfrac{3}{2}\\dfrac{g}{L}\\sin\\theta \\\\\n",
    "\\Delta\\omega = \\alpha\\Delta t \\\\\n",
    "\\Delta\\theta = \\omega\\Delta t.\n",
    "$$\n",
    "\n",
    "Therefore, to determine the time it takes for the stick to fall, we track the cumulative computation of time until the stick reaches its final angular position. "
   ]
  },
  {
   "cell_type": "markdown",
   "metadata": {},
   "source": [
    "### Euler Method\n",
    "\n",
    "The Euler method is a simple numerical technique used to solve ODEs with a given initial value. In this context, it helps us approximate the angular velocity $\\omega$, angle $\\theta$, and consequently, the time $t$ it takes for the stick to fall. To numerically solve this differential equation, we use the Euler method, which involves discretizing the continuous variables  into discrete steps.\n",
    "\n",
    "The Euler method is a numerical method used to solve ODEs starting from an initial value. It helps us estimate the angular velocity $\\omega$, the angle $\\theta$, and the time $t$ it takes for the stick to fall. This method breaks down these continuous variables into $n$ steps to compute their values over time.\n",
    "\n",
    "**Steps:**\n",
    "1. $\\alpha_n = \\dfrac{3}{2}\\dfrac{g}{L}\\sin\\theta_n$\n",
    "2. $\\omega_{n+1} = \\omega_{n} + \\alpha_n\\Delta t $\n",
    "3. $\\theta_{n+1} = \\theta_{n} + \\omega_n\\Delta t $\n",
    "4. $t_{n+1} = t_{n} + \\Delta t $\n",
    "\n",
    "The initial values are $\\theta_0 = 0.1 rad$ (it can't be zero because $\\sin 0 = 0$), $\\omega_0 = 0 rad/s$ and $t = 0 s$ with step size $\\Delta t = 0.001 s$.\n",
    "\n",
    "These values are updated iteratively until $\\theta_n$ reaches $\\pi/2$, indicating that the stick has fallen completely."
   ]
  },
  {
   "cell_type": "code",
   "execution_count": 2,
   "metadata": {},
   "outputs": [
    {
     "name": "stdout",
     "output_type": "stream",
     "text": [
      "Time to fall down = 0.35400 sec\n"
     ]
    }
   ],
   "source": [
    "def calculate_time_euler(L, initial_theta=0.1, initial_omega=0, dt=0.001):\n",
    "    \"\"\"\n",
    "    Calculate the time it takes for a stick to fall from an initial angle using Euler method.\n",
    "    \n",
    "    Parameters:\n",
    "    L (float): Length of the stick\n",
    "    initial_theta (float): Initial angle in radians (default is 0.1)\n",
    "    initial_omega (float): Initial angular velocity (default is 0)\n",
    "    dt (float): Time step for the numerical integration (default is 0.001)\n",
    "    \n",
    "    Returns:\n",
    "    float: Time taken for the stick to fall down in seconds\n",
    "    \"\"\"\n",
    "    g = 9.81 # gravitational acceleration\n",
    "    theta = initial_theta\n",
    "    omega = initial_omega\n",
    "    t = 0\n",
    "\n",
    "    while theta < np.pi/2: # when the stick falls, theta = 90 deg\n",
    "        alpha = (3/2) * (g/L) * np.sin(theta)\n",
    "        omega = omega + alpha * dt\n",
    "        theta = theta + omega * dt\n",
    "        t = t + dt\n",
    "        \n",
    "    return t\n",
    "\n",
    "# Example usage\n",
    "L = .15 # Length of the stick in meters\n",
    "time_to_fall = calculate_time_euler(L)\n",
    "print(f'Time to fall down = {time_to_fall:.5f} sec')\n"
   ]
  },
  {
   "cell_type": "markdown",
   "metadata": {},
   "source": [
    "### Runge-Kutta Method\n",
    "For improved accuracy, the Runge-Kutta method (4th order) can be used. This method is more accurate than the Euler method, particularly for systems with non-linear dynamics.\n",
    "\n",
    "The Runge-Kutta method uses intermediate steps to calculate the next value of the dependent variable, thereby reducing the error. The general form of the 4th order Runge-Kutta method for updating $\\theta$ and $\\omega$ is as follows:\n",
    "\n",
    "1. Compute the intermediate slopes:\n",
    "   - $k_1$ based on the initial values using Euler method.\n",
    "   - $k_2$ based on the values at the midpoint of the interval using $k_1$.\n",
    "   - $k_3$ based on the values at the midpoint of the interval using $k_2$.\n",
    "   - $k_4$ based on the values at the end of the interval using $k_3$.\n",
    "2. Update the variables using a weighted average of these slopes:\n",
    "   - $\\theta_{n+1}​=\\theta_n ​+ \\dfrac{\\Delta t}{6}​(k_{1\\theta}​+2k_{2\\theta}​+2k_{3\\theta}​+k_{4\\theta}​),$\n",
    "   - $\\omega_{n+1}​=\\omega_n ​+ \\dfrac{\\Delta t}{6}​(k_{1\\omega}​+2k_{2\\omega}​+2k_{3\\omega}​+k_{4\\omega}​),$\n",
    "\n",
    "where:\n",
    "- $k_{1\\theta} = \\omega_n$,\n",
    "- $k_{1\\omega} = \\dfrac{3}{2}\\dfrac{g}{L}\\sin\\theta_n$,\n",
    "- The subsequent values for the slopes are similarly computed using the updated $\\theta$ and $\\omega$ values at the respective intermediate steps."
   ]
  },
  {
   "cell_type": "code",
   "execution_count": 3,
   "metadata": {},
   "outputs": [
    {
     "name": "stdout",
     "output_type": "stream",
     "text": [
      "Time to fall down using RK4 = 0.35400 sec\n"
     ]
    }
   ],
   "source": [
    "def calculate_time_rk4(L, initial_theta=0.1, initial_omega=0, dt=0.001):\n",
    "    \"\"\"\n",
    "    Calculate the time it takes for a stick to fall from an initial angle using the 4th-order Runge-Kutta method.\n",
    "    \n",
    "    Parameters:\n",
    "    L (float): Length of the stick\n",
    "    initial_theta (float): Initial angle in radians (default is 0.1)\n",
    "    initial_omega (float): Initial angular velocity (default is 0)\n",
    "    dt (float): Time step for the numerical integration (default is 0.001)\n",
    "    \n",
    "    Returns:\n",
    "    float: Time taken for the stick to fall down in seconds\n",
    "    \"\"\"\n",
    "    g = 9.81 # gravitational acceleration\n",
    "    theta = initial_theta\n",
    "    omega = initial_omega\n",
    "    t = 0\n",
    "\n",
    "    def derivatives(theta, omega):\n",
    "        alpha = (3/2) * (g/L) * np.sin(theta)\n",
    "        return omega, alpha\n",
    "\n",
    "    while theta < np.pi/2:\n",
    "        k1_theta, k1_omega = derivatives(theta, omega)\n",
    "        k2_theta, k2_omega = derivatives(theta + 0.5*dt*k1_theta, omega + 0.5*dt*k1_omega)\n",
    "        k3_theta, k3_omega = derivatives(theta + 0.5*dt*k2_theta, omega + 0.5*dt*k2_omega)\n",
    "        k4_theta, k4_omega = derivatives(theta + dt*k3_theta, omega + dt*k3_omega)\n",
    "        \n",
    "        theta += (dt / 6) * (k1_theta + 2*k2_theta + 2*k3_theta + k4_theta)\n",
    "        omega += (dt / 6) * (k1_omega + 2*k2_omega + 2*k3_omega + k4_omega)\n",
    "        t += dt\n",
    "\n",
    "    return t\n",
    "\n",
    "# Example usage\n",
    "L = .15 # Length of the stick in meters\n",
    "time_to_fall_rk4 = calculate_time_rk4(L)\n",
    "print(f'Time to fall down using RK4 = {time_to_fall_rk4:.5f} sec')"
   ]
  },
  {
   "cell_type": "markdown",
   "metadata": {},
   "source": [
    "## Experiment"
   ]
  },
  {
   "cell_type": "markdown",
   "metadata": {},
   "source": [
    "To validate the numerical results, we experimentally measure the time it takes for a $15 cm$ long pen to fall. The measured times are as follows:\n",
    "\n",
    "$$\n",
    "t=[0.40,0.34,0.39,0.33,0.33,0.34,0.33,0.39,0.39,0.33].\n",
    "$$\n",
    "\n",
    "These measurements are then visualized using a histogram:"
   ]
  },
  {
   "cell_type": "code",
   "execution_count": 4,
   "metadata": {},
   "outputs": [
    {
     "data": {
      "image/png": "[encoded data removed]",
      "text/plain": [
       "<Figure size 640x480 with 1 Axes>"
      ]
     },
     "metadata": {},
     "output_type": "display_data"
    }
   ],
   "source": [
    "time = np.array([0.40, 0.34, 0.39, 0.33, 0.33, 0.34, 0.33, 0.39, 0.39, 0.33])\n",
    "time_df = pd.DataFrame({'Time': time})\n",
    "\n",
    "plt.hist(time_df['Time'])\n",
    "plt.xlabel('Time (seconds)')\n",
    "plt.ylabel('Count')\n",
    "plt.title('Histogram of Falling Time')\n",
    "plt.grid(True)\n",
    "plt.show()"
   ]
  },
  {
   "cell_type": "markdown",
   "metadata": {},
   "source": [
    "The average falling time is:"
   ]
  },
  {
   "cell_type": "code",
   "execution_count": 5,
   "metadata": {},
   "outputs": [
    {
     "name": "stdout",
     "output_type": "stream",
     "text": [
      "0.35700\n"
     ]
    }
   ],
   "source": [
    "t_average = time.mean()\n",
    "print(f'{t_average:.5f}')"
   ]
  },
  {
   "cell_type": "markdown",
   "metadata": {},
   "source": [
    "From the histogram and the average time, we conclude that the numerical simulation agrees well with the experimental data."
   ]
  },
  {
   "cell_type": "markdown",
   "metadata": {},
   "source": []
  }
 ],
 "metadata": {
  "kernelspec": {
   "display_name": "Python 3",
   "language": "python",
   "name": "python3"
  },
  "language_info": {
   "codemirror_mode": {
    "name": "ipython",
    "version": 3
   },
   "file_extension": ".py",
   "mimetype": "text/x-python",
   "name": "python",
   "nbconvert_exporter": "python",
   "pygments_lexer": "ipython3",
   "version": "3.11.5"
  }
 },
 "nbformat": 4,
 "nbformat_minor": 4
}
